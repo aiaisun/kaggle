{
 "cells": [
  {
   "cell_type": "markdown",
   "metadata": {},
   "source": [
    "- Please start the test in Kaggle https://www.kaggle.com/t/94b12368cbce4c65a2b4ea4be059e312\n",
    "- demo website: http://realestateevaluator-dev.ap-southeast-1.elasticbeanstalk.com/evaluator/"
   ]
  },
  {
   "cell_type": "code",
   "execution_count": 8,
   "metadata": {},
   "outputs": [],
   "source": [
    "import pandas as pd\n",
    "import os\n",
    "import urllib.request\n",
    "from sklearn.model_selection import train_test_split"
   ]
  },
  {
   "cell_type": "code",
   "execution_count": 6,
   "metadata": {},
   "outputs": [
    {
     "name": "stdout",
     "output_type": "stream",
     "text": [
      "['answer.csv', 'test_submission.csv', '.DS_Store', 'test.csv', 'submission.csv', 'realestateevaluation', 'train.csv']\n"
     ]
    }
   ],
   "source": [
    "# This Python 3 environment comes with many helpful analytics libraries installed\n",
    "# It is defined by the kaggle/python docker image: https://github.com/kaggle/docker-python\n",
    "# For example, here's several helpful packages to load in \n",
    "\n",
    "import numpy as np # linear algebra\n",
    "import pandas as pd # data processing, CSV file I/O (e.g. pd.read_csv)\n",
    "\n",
    "from collections import Counter\n",
    "import matplotlib.pyplot as plt\n",
    "from sklearn import preprocessing\n",
    "\n",
    "import re\n",
    "\n",
    "# Input data files are available in the \"../input/\" directory.\n",
    "# For example, running this (by clicking run or pressing Shift+Enter) will list the files in the input directory\n",
    "\n",
    "import os\n",
    "print(os.listdir(\"data\"))\n",
    "\n",
    "# Any results you write to the current directory are saved as output.\n"
   ]
  },
  {
   "cell_type": "code",
   "execution_count": 104,
   "metadata": {},
   "outputs": [
    {
     "name": "stderr",
     "output_type": "stream",
     "text": [
      "/Library/Frameworks/Python.framework/Versions/3.7/lib/python3.7/site-packages/IPython/core/interactiveshell.py:3051: DtypeWarning: Columns (24) have mixed types. Specify dtype option on import or set low_memory=False.\n",
      "  interactivity=interactivity, compiler=compiler, result=result)\n"
     ]
    }
   ],
   "source": [
    "df_train = pd.read_csv('data/train.csv')\n",
    "df_test = pd.read_csv('data/test.csv')\n",
    "# df_test.head(2)"
   ]
  },
  {
   "cell_type": "markdown",
   "metadata": {},
   "source": [
    "<h1> 主要建材"
   ]
  },
  {
   "cell_type": "code",
   "execution_count": 65,
   "metadata": {},
   "outputs": [],
   "source": [
    "building_material=df_train['主要建材'].astype('str').apply(lambda x:x.lower())\n",
    "building_material_dict=dict([(name,id)for id ,name in enumerate(sorted(set(df_train['主要建材'].astype('str'))))])\n",
    "building_material_cat=df_train['主要建材'].astype('str').apply(building_material_dict.get).values\n",
    "df_train['building_material_cat'] = building_material_cat"
   ]
  },
  {
   "cell_type": "markdown",
   "metadata": {},
   "source": [
    "<h1> 主要用途"
   ]
  },
  {
   "cell_type": "code",
   "execution_count": 101,
   "metadata": {},
   "outputs": [
    {
     "data": {
      "text/plain": [
       "array([1, 1, 5, ..., 5, 5, 5])"
      ]
     },
     "execution_count": 101,
     "metadata": {},
     "output_type": "execute_result"
    }
   ],
   "source": [
    "building_purpose_dict=dict([(purpose , id) for id, purpose in enumerate(set(df_train['主要用途'].astype(str)))])\n",
    "building_purpose_cat=df_train['主要用途'].astype(str).apply(building_purpose_dict.get).values\n",
    "df_train['building_purpose_cat']=building_purpose_cat\n",
    "building_purpose_cat"
   ]
  },
  {
   "cell_type": "markdown",
   "metadata": {},
   "source": [
    "<h1>車位類別"
   ]
  },
  {
   "cell_type": "code",
   "execution_count": 102,
   "metadata": {},
   "outputs": [],
   "source": [
    "car_dict = dict([(typ,idx) for idx,typ in enumerate(set(df_train['車位類別'].astype(str)))])"
   ]
  },
  {
   "cell_type": "markdown",
   "metadata": {},
   "source": [
    "<h1>鄉鎮市區"
   ]
  },
  {
   "cell_type": "code",
   "execution_count": 85,
   "metadata": {},
   "outputs": [],
   "source": [
    "districtIndex = list(enumerate(set(df_train[\"鄉鎮市區\"])))\n",
    "districtDic = {}\n",
    "for idx, district in districtIndex:\n",
    "    districtDic[district] = idx\n",
    "    \n",
    "    \n",
    "district_cat = df_train[\"鄉鎮市區\"].apply(districtDic.get)"
   ]
  },
  {
   "cell_type": "markdown",
   "metadata": {},
   "source": [
    "<h1> 建物型態"
   ]
  },
  {
   "cell_type": "code",
   "execution_count": 91,
   "metadata": {},
   "outputs": [],
   "source": [
    "buildingIndex = list(enumerate(set(df_train[\"建物型態\"])))\n",
    "buildingDic = {}\n",
    "for idx, building in buildingIndex:\n",
    "    buildingDic[building] = idx\n",
    "    \n",
    "    \n",
    "building_cat = df_train[\"建物型態\"].apply(buildingDic.get)"
   ]
  },
  {
   "cell_type": "markdown",
   "metadata": {},
   "source": [
    "<h1>建物現況格局-廳 "
   ]
  },
  {
   "cell_type": "code",
   "execution_count": 93,
   "metadata": {
    "scrolled": true
   },
   "outputs": [
    {
     "data": {
      "text/plain": [
       "{0, 1, 2, 3, 4, 5, 6, 7, 8, 9, 20, 24, 56, 80}"
      ]
     },
     "execution_count": 93,
     "metadata": {},
     "output_type": "execute_result"
    }
   ],
   "source": [
    "set(df_train[\"建物現況格局-廳\"])"
   ]
  },
  {
   "cell_type": "code",
   "execution_count": 98,
   "metadata": {},
   "outputs": [
    {
     "data": {
      "text/plain": [
       "(array([15683]),)"
      ]
     },
     "execution_count": 98,
     "metadata": {},
     "output_type": "execute_result"
    }
   ],
   "source": [
    "np.where(df_train[\"建物現況格局-廳\"]==24)"
   ]
  },
  {
   "cell_type": "code",
   "execution_count": 99,
   "metadata": {
    "scrolled": true
   },
   "outputs": [
    {
     "data": {
      "text/plain": [
       "index                                                                         15683\n",
       "主要建材                                                                         鋼筋混凝土造\n",
       "主要用途                                                                            住家用\n",
       "交易年月日                                                           0104-10-08 00:00:00\n",
       "交易標的                                                                      房地(土地+建物)\n",
       "交易筆棟數                                                                    土地2建物12車位0\n",
       "備註                                                                              NaN\n",
       "土地區段位置/建物區段門牌                                                臺北市大安區和平東路二段18巷3弄1~30號\n",
       "土地移轉總面積(平方公尺)                                                                   678\n",
       "建物型態                                                                  華廈(10層含以下有電梯)\n",
       "建物現況格局-廳                                                                         24\n",
       "建物現況格局-房                                                                         39\n",
       "建物現況格局-衛                                                                         23\n",
       "建物現況格局-隔間                                                                         有\n",
       "建物移轉總面積(平方公尺)                                                               2428.73\n",
       "建築完成年月                                                                       880909\n",
       "有無管理組織                                                                            有\n",
       "移轉層次                                                                          六層，七層\n",
       "編號                                                              RPUNMLQKKIKFFFA18CA\n",
       "總樓層數                                                                             七層\n",
       "車位移轉總面積(平方公尺)                                                                     0\n",
       "車位類別                                                                            NaN\n",
       "都市土地使用分區                                                                          住\n",
       "鄉鎮市區                                                                            大安區\n",
       "非都市土地使用分區                                                                       NaN\n",
       "非都市土地使用編定                                                                       NaN\n",
       "num_of_bus_stations_in_100m                                                       1\n",
       "income_avg                                                                     2044\n",
       "income_var                                                                   265.46\n",
       "location_type                                                               ROOFTOP\n",
       "low_use_electricity                                                           3.73%\n",
       "nearest_tarin_station                                                         科技大樓站\n",
       "nearest_tarin_station_distance                                               775.22\n",
       "lat                                                                         25.0235\n",
       "lng                                                                         121.536\n",
       "price_per_ping                                                               254234\n",
       "districtOneHot                      (0, 6)\\t1.0\\n  (1, 1)\\t1.0\\n  (2, 5)\\t1.0\\n ...\n",
       "building_material_cat                                                            13\n",
       "Name: 15683, dtype: object"
      ]
     },
     "execution_count": 99,
     "metadata": {},
     "output_type": "execute_result"
    }
   ],
   "source": [
    "df_train.iloc[15683,:]"
   ]
  },
  {
   "cell_type": "code",
   "execution_count": null,
   "metadata": {},
   "outputs": [],
   "source": []
  },
  {
   "cell_type": "code",
   "execution_count": 30,
   "metadata": {},
   "outputs": [],
   "source": [
    "from sklearn.preprocessing import OneHotEncoder\n",
    "enc = OneHotEncoder()"
   ]
  },
  {
   "cell_type": "code",
   "execution_count": 34,
   "metadata": {},
   "outputs": [
    {
     "data": {
      "text/plain": [
       "array([0., 1., 0., 0., 0., 0., 0., 0., 0., 0., 0., 0.])"
      ]
     },
     "execution_count": 34,
     "metadata": {},
     "output_type": "execute_result"
    }
   ],
   "source": [
    "districtOneHot[1]"
   ]
  },
  {
   "cell_type": "code",
   "execution_count": 59,
   "metadata": {},
   "outputs": [
    {
     "ename": "ValueError",
     "evalue": "Length of values does not match length of index",
     "output_type": "error",
     "traceback": [
      "\u001b[0;31m---------------------------------------------------------------------------\u001b[0m",
      "\u001b[0;31mValueError\u001b[0m                                Traceback (most recent call last)",
      "\u001b[0;32m<ipython-input-59-5cae500a9a48>\u001b[0m in \u001b[0;36m<module>\u001b[0;34m\u001b[0m\n\u001b[1;32m      1\u001b[0m \u001b[0mdistrictOneHot\u001b[0m \u001b[0;34m=\u001b[0m \u001b[0menc\u001b[0m\u001b[0;34m.\u001b[0m\u001b[0mfit_transform\u001b[0m\u001b[0;34m(\u001b[0m\u001b[0mdf_train\u001b[0m\u001b[0;34m[\u001b[0m\u001b[0;34m[\u001b[0m\u001b[0;34m\"鄉鎮市區\"\u001b[0m\u001b[0;34m]\u001b[0m\u001b[0;34m]\u001b[0m\u001b[0;34m.\u001b[0m\u001b[0mvalues\u001b[0m\u001b[0;34m)\u001b[0m\u001b[0;34m.\u001b[0m\u001b[0mtoarray\u001b[0m\u001b[0;34m(\u001b[0m\u001b[0;34m)\u001b[0m\u001b[0;34m.\u001b[0m\u001b[0mreshape\u001b[0m\u001b[0;34m(\u001b[0m\u001b[0;34m-\u001b[0m\u001b[0;36m1\u001b[0m\u001b[0;34m,\u001b[0m\u001b[0;36m1\u001b[0m\u001b[0;34m)\u001b[0m\u001b[0;34m\u001b[0m\u001b[0m\n\u001b[1;32m      2\u001b[0m \u001b[0;34m\u001b[0m\u001b[0m\n\u001b[0;32m----> 3\u001b[0;31m \u001b[0mdf_train\u001b[0m\u001b[0;34m[\u001b[0m\u001b[0;34m'districtOneHot'\u001b[0m\u001b[0;34m]\u001b[0m \u001b[0;34m=\u001b[0m \u001b[0mdistrictOneHot\u001b[0m\u001b[0;34m\u001b[0m\u001b[0m\n\u001b[0m",
      "\u001b[0;32m/Library/Frameworks/Python.framework/Versions/3.7/lib/python3.7/site-packages/pandas/core/frame.py\u001b[0m in \u001b[0;36m__setitem__\u001b[0;34m(self, key, value)\u001b[0m\n\u001b[1;32m   3485\u001b[0m         \u001b[0;32melse\u001b[0m\u001b[0;34m:\u001b[0m\u001b[0;34m\u001b[0m\u001b[0m\n\u001b[1;32m   3486\u001b[0m             \u001b[0;31m# set column\u001b[0m\u001b[0;34m\u001b[0m\u001b[0;34m\u001b[0m\u001b[0m\n\u001b[0;32m-> 3487\u001b[0;31m             \u001b[0mself\u001b[0m\u001b[0;34m.\u001b[0m\u001b[0m_set_item\u001b[0m\u001b[0;34m(\u001b[0m\u001b[0mkey\u001b[0m\u001b[0;34m,\u001b[0m \u001b[0mvalue\u001b[0m\u001b[0;34m)\u001b[0m\u001b[0;34m\u001b[0m\u001b[0m\n\u001b[0m\u001b[1;32m   3488\u001b[0m \u001b[0;34m\u001b[0m\u001b[0m\n\u001b[1;32m   3489\u001b[0m     \u001b[0;32mdef\u001b[0m \u001b[0m_setitem_slice\u001b[0m\u001b[0;34m(\u001b[0m\u001b[0mself\u001b[0m\u001b[0;34m,\u001b[0m \u001b[0mkey\u001b[0m\u001b[0;34m,\u001b[0m \u001b[0mvalue\u001b[0m\u001b[0;34m)\u001b[0m\u001b[0;34m:\u001b[0m\u001b[0;34m\u001b[0m\u001b[0m\n",
      "\u001b[0;32m/Library/Frameworks/Python.framework/Versions/3.7/lib/python3.7/site-packages/pandas/core/frame.py\u001b[0m in \u001b[0;36m_set_item\u001b[0;34m(self, key, value)\u001b[0m\n\u001b[1;32m   3562\u001b[0m \u001b[0;34m\u001b[0m\u001b[0m\n\u001b[1;32m   3563\u001b[0m         \u001b[0mself\u001b[0m\u001b[0;34m.\u001b[0m\u001b[0m_ensure_valid_index\u001b[0m\u001b[0;34m(\u001b[0m\u001b[0mvalue\u001b[0m\u001b[0;34m)\u001b[0m\u001b[0;34m\u001b[0m\u001b[0m\n\u001b[0;32m-> 3564\u001b[0;31m         \u001b[0mvalue\u001b[0m \u001b[0;34m=\u001b[0m \u001b[0mself\u001b[0m\u001b[0;34m.\u001b[0m\u001b[0m_sanitize_column\u001b[0m\u001b[0;34m(\u001b[0m\u001b[0mkey\u001b[0m\u001b[0;34m,\u001b[0m \u001b[0mvalue\u001b[0m\u001b[0;34m)\u001b[0m\u001b[0;34m\u001b[0m\u001b[0m\n\u001b[0m\u001b[1;32m   3565\u001b[0m         \u001b[0mNDFrame\u001b[0m\u001b[0;34m.\u001b[0m\u001b[0m_set_item\u001b[0m\u001b[0;34m(\u001b[0m\u001b[0mself\u001b[0m\u001b[0;34m,\u001b[0m \u001b[0mkey\u001b[0m\u001b[0;34m,\u001b[0m \u001b[0mvalue\u001b[0m\u001b[0;34m)\u001b[0m\u001b[0;34m\u001b[0m\u001b[0m\n\u001b[1;32m   3566\u001b[0m \u001b[0;34m\u001b[0m\u001b[0m\n",
      "\u001b[0;32m/Library/Frameworks/Python.framework/Versions/3.7/lib/python3.7/site-packages/pandas/core/frame.py\u001b[0m in \u001b[0;36m_sanitize_column\u001b[0;34m(self, key, value, broadcast)\u001b[0m\n\u001b[1;32m   3747\u001b[0m \u001b[0;34m\u001b[0m\u001b[0m\n\u001b[1;32m   3748\u001b[0m             \u001b[0;31m# turn me into an ndarray\u001b[0m\u001b[0;34m\u001b[0m\u001b[0;34m\u001b[0m\u001b[0m\n\u001b[0;32m-> 3749\u001b[0;31m             \u001b[0mvalue\u001b[0m \u001b[0;34m=\u001b[0m \u001b[0msanitize_index\u001b[0m\u001b[0;34m(\u001b[0m\u001b[0mvalue\u001b[0m\u001b[0;34m,\u001b[0m \u001b[0mself\u001b[0m\u001b[0;34m.\u001b[0m\u001b[0mindex\u001b[0m\u001b[0;34m,\u001b[0m \u001b[0mcopy\u001b[0m\u001b[0;34m=\u001b[0m\u001b[0;32mFalse\u001b[0m\u001b[0;34m)\u001b[0m\u001b[0;34m\u001b[0m\u001b[0m\n\u001b[0m\u001b[1;32m   3750\u001b[0m             \u001b[0;32mif\u001b[0m \u001b[0;32mnot\u001b[0m \u001b[0misinstance\u001b[0m\u001b[0;34m(\u001b[0m\u001b[0mvalue\u001b[0m\u001b[0;34m,\u001b[0m \u001b[0;34m(\u001b[0m\u001b[0mnp\u001b[0m\u001b[0;34m.\u001b[0m\u001b[0mndarray\u001b[0m\u001b[0;34m,\u001b[0m \u001b[0mIndex\u001b[0m\u001b[0;34m)\u001b[0m\u001b[0;34m)\u001b[0m\u001b[0;34m:\u001b[0m\u001b[0;34m\u001b[0m\u001b[0m\n\u001b[1;32m   3751\u001b[0m                 \u001b[0;32mif\u001b[0m \u001b[0misinstance\u001b[0m\u001b[0;34m(\u001b[0m\u001b[0mvalue\u001b[0m\u001b[0;34m,\u001b[0m \u001b[0mlist\u001b[0m\u001b[0;34m)\u001b[0m \u001b[0;32mand\u001b[0m \u001b[0mlen\u001b[0m\u001b[0;34m(\u001b[0m\u001b[0mvalue\u001b[0m\u001b[0;34m)\u001b[0m \u001b[0;34m>\u001b[0m \u001b[0;36m0\u001b[0m\u001b[0;34m:\u001b[0m\u001b[0;34m\u001b[0m\u001b[0m\n",
      "\u001b[0;32m/Library/Frameworks/Python.framework/Versions/3.7/lib/python3.7/site-packages/pandas/core/internals/construction.py\u001b[0m in \u001b[0;36msanitize_index\u001b[0;34m(data, index, copy)\u001b[0m\n\u001b[1;32m    610\u001b[0m \u001b[0;34m\u001b[0m\u001b[0m\n\u001b[1;32m    611\u001b[0m     \u001b[0;32mif\u001b[0m \u001b[0mlen\u001b[0m\u001b[0;34m(\u001b[0m\u001b[0mdata\u001b[0m\u001b[0;34m)\u001b[0m \u001b[0;34m!=\u001b[0m \u001b[0mlen\u001b[0m\u001b[0;34m(\u001b[0m\u001b[0mindex\u001b[0m\u001b[0;34m)\u001b[0m\u001b[0;34m:\u001b[0m\u001b[0;34m\u001b[0m\u001b[0m\n\u001b[0;32m--> 612\u001b[0;31m         \u001b[0;32mraise\u001b[0m \u001b[0mValueError\u001b[0m\u001b[0;34m(\u001b[0m\u001b[0;34m\"Length of values does not match length of index\"\u001b[0m\u001b[0;34m)\u001b[0m\u001b[0;34m\u001b[0m\u001b[0m\n\u001b[0m\u001b[1;32m    613\u001b[0m \u001b[0;34m\u001b[0m\u001b[0m\n\u001b[1;32m    614\u001b[0m     \u001b[0;32mif\u001b[0m \u001b[0misinstance\u001b[0m\u001b[0;34m(\u001b[0m\u001b[0mdata\u001b[0m\u001b[0;34m,\u001b[0m \u001b[0mABCIndexClass\u001b[0m\u001b[0;34m)\u001b[0m \u001b[0;32mand\u001b[0m \u001b[0;32mnot\u001b[0m \u001b[0mcopy\u001b[0m\u001b[0;34m:\u001b[0m\u001b[0;34m\u001b[0m\u001b[0m\n",
      "\u001b[0;31mValueError\u001b[0m: Length of values does not match length of index"
     ]
    }
   ],
   "source": [
    "districtOneHot = enc.fit_transform(df_train[[\"鄉鎮市區\"]].values).toarray().reshape(-1,1)\n",
    "\n",
    "df_train['districtOneHot'] = districtOneHot"
   ]
  },
  {
   "cell_type": "code",
   "execution_count": 51,
   "metadata": {},
   "outputs": [],
   "source": [
    "districtOneHot = enc.fit_transform(df_train[[\"鄉鎮市區\"]].values).toarray().reshape(-1,1)"
   ]
  },
  {
   "cell_type": "code",
   "execution_count": 47,
   "metadata": {},
   "outputs": [
    {
     "data": {
      "text/plain": [
       "0          (0, 6)\\t1.0\\n  (1, 1)\\t1.0\\n  (2, 5)\\t1.0\\n ...\n",
       "1          (0, 6)\\t1.0\\n  (1, 1)\\t1.0\\n  (2, 5)\\t1.0\\n ...\n",
       "2          (0, 6)\\t1.0\\n  (1, 1)\\t1.0\\n  (2, 5)\\t1.0\\n ...\n",
       "3          (0, 6)\\t1.0\\n  (1, 1)\\t1.0\\n  (2, 5)\\t1.0\\n ...\n",
       "4          (0, 6)\\t1.0\\n  (1, 1)\\t1.0\\n  (2, 5)\\t1.0\\n ...\n",
       "                               ...                        \n",
       "69165      (0, 6)\\t1.0\\n  (1, 1)\\t1.0\\n  (2, 5)\\t1.0\\n ...\n",
       "69166      (0, 6)\\t1.0\\n  (1, 1)\\t1.0\\n  (2, 5)\\t1.0\\n ...\n",
       "69167      (0, 6)\\t1.0\\n  (1, 1)\\t1.0\\n  (2, 5)\\t1.0\\n ...\n",
       "69168      (0, 6)\\t1.0\\n  (1, 1)\\t1.0\\n  (2, 5)\\t1.0\\n ...\n",
       "69169      (0, 6)\\t1.0\\n  (1, 1)\\t1.0\\n  (2, 5)\\t1.0\\n ...\n",
       "Name: districtOneHot, Length: 69170, dtype: object"
      ]
     },
     "execution_count": 47,
     "metadata": {},
     "output_type": "execute_result"
    }
   ],
   "source": [
    "df_train['districtOneHot']"
   ]
  },
  {
   "cell_type": "code",
   "execution_count": 2,
   "metadata": {},
   "outputs": [],
   "source": [
    "# if 'data' not in os.listdir():\n",
    "#     os.mkdir('data')\n",
    "    \n",
    "# if 'df_realestate.csv' not in os.listdir('data'):\n",
    "#     url = 'https://s3.amazonaws.com/datasets-jeremy/df_realestate.csv'  \n",
    "#     urllib.request.urlretrieve(url, os.path.join('data', 'df_realestate.csv')) \n",
    "    \n",
    "# if 'df_realestate_processed.csv' not in os.listdir('data'):\n",
    "#     url = 'https://s3.amazonaws.com/datasets-jeremy/df_realestate_processed.csv'  \n",
    "#     urllib.request.urlretrieve(url, os.path.join('data', 'df_realestate_processed.csv'))  "
   ]
  },
  {
   "cell_type": "code",
   "execution_count": 87,
   "metadata": {},
   "outputs": [],
   "source": [
    "# # before preprocessing\n",
    "# file = os.path.join('data', 'df_realestate.csv')\n",
    "# df_realestate = pd.read_csv(file, encoding='big5')\n",
    "# df_realestate\n",
    "\n",
    "# # processed\n",
    "# path = \"data//df_realestate_processed.csv\"\n",
    "# df_realestate_processed = pd.read_csv(path)\n",
    "# X = df_realestate_processed.drop([\"price_per_meter\", \"total_price\"], axis=1)\n",
    "# Y = df_realestate_processed['total_price']\n"
   ]
  },
  {
   "cell_type": "code",
   "execution_count": 88,
   "metadata": {
    "scrolled": true
   },
   "outputs": [],
   "source": [
    "# df_realestate['price_per_ping'] = df_realestate['單價(元/平方公尺)']\n",
    "# showing_cols = [\n",
    "#     '主要建材',\n",
    "#     '主要用途', '交易年月日', '交易標的', '交易筆棟數', '備註', '土地區段位置/建物區段門牌',\n",
    "#     '土地移轉總面積(平方公尺)', '建物型態', '建物現況格局-廳', '建物現況格局-房', '建物現況格局-衛',\n",
    "#     '建物現況格局-隔間', '建物移轉總面積(平方公尺)', '建築完成年月', '有無管理組織', '移轉層次', '編號',\n",
    "#     '總樓層數', '車位移轉總面積(平方公尺)', '車位類別', '都市土地使用分區', '鄉鎮市區',\n",
    "#     '非都市土地使用分區', '非都市土地使用編定', \n",
    "#     'num_of_bus_stations_in_100m', 'income_avg', 'income_var', \n",
    "#     'location_type', 'low_use_electricity',\n",
    "#     'nearest_tarin_station', 'nearest_tarin_station_distance',\n",
    "#     'lat', 'lng', 'price_per_ping'\n",
    "# ]\n",
    "\n",
    "# df_realestate = df_realestate[showing_cols]"
   ]
  },
  {
   "cell_type": "code",
   "execution_count": 89,
   "metadata": {},
   "outputs": [
    {
     "name": "stdout",
     "output_type": "stream",
     "text": [
      "75203\n",
      "70670\n"
     ]
    }
   ],
   "source": [
    "# print(len(df_realestate))\n",
    "# df_realestate = df_realestate[pd.notnull(df_realestate['price_per_ping'])]\n",
    "# print(len(df_realestate))\n"
   ]
  },
  {
   "cell_type": "code",
   "execution_count": 90,
   "metadata": {
    "scrolled": true
   },
   "outputs": [],
   "source": [
    "# train, test = train_test_split(df_realestate, random_state=4242, test_size=1500)\n",
    "# train = train.reset_index()\n",
    "# train.loc[:, 'index'] = train.index\n",
    "# test = test.reset_index()\n",
    "# test.loc[:, 'index'] = test.index\n",
    "# answer = test[['index', 'price_per_ping']]\n",
    "# submission = test[['index', 'price_per_ping']]\n",
    "# submission.loc[:, 'price_per_ping'] = 0.0\n",
    "# test = test.drop('price_per_ping', axis=1)"
   ]
  },
  {
   "cell_type": "code",
   "execution_count": 94,
   "metadata": {},
   "outputs": [],
   "source": [
    "# train.to_csv(os.path.join('data', 'train.csv'), index=False)\n",
    "# test.to_csv(os.path.join('data', 'test.csv'), index=False)\n",
    "# answer.to_csv(os.path.join('data', 'answer.csv'), index=False)\n",
    "# submission.to_csv(os.path.join('data', 'submission.csv'), index=False)\n"
   ]
  },
  {
   "cell_type": "code",
   "execution_count": 96,
   "metadata": {},
   "outputs": [],
   "source": [
    "# test_submission = answer\n",
    "# test_submission['price_per_ping'] = answer['price_per_ping'].mean()"
   ]
  },
  {
   "cell_type": "code",
   "execution_count": 99,
   "metadata": {},
   "outputs": [],
   "source": [
    "# test_submission.to_csv(os.path.join('data', 'test_submission.csv'), index=False)\n"
   ]
  }
 ],
 "metadata": {
  "kernelspec": {
   "display_name": "Python 3",
   "language": "python",
   "name": "python3"
  },
  "language_info": {
   "codemirror_mode": {
    "name": "ipython",
    "version": 3
   },
   "file_extension": ".py",
   "mimetype": "text/x-python",
   "name": "python",
   "nbconvert_exporter": "python",
   "pygments_lexer": "ipython3",
   "version": "3.7.0"
  }
 },
 "nbformat": 4,
 "nbformat_minor": 2
}
